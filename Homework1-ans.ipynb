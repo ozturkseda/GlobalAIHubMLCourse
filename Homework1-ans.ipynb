{
 "cells": [
  {
   "cell_type": "code",
   "execution_count": null,
   "metadata": {},
   "outputs": [],
   "source": [
    "#1\n",
    "\"\"\"1 Machine learning is an application of Artifical Intellegent which provides systems the ability to automatically learn and\n",
    "improve with experience without being explicity programmed. Machine Learning focuses on the development of computer programs \n",
    "that can access data and use ıt to learn by one's own.\n",
    "\n",
    "\n",
    "\n",
    "\n",
    "\n",
    "\"\"\"\n",
    "#2\n",
    "\"\"\"\n",
    "\n",
    "The input data (which the supervised learning algorithm used to train) is already labeled with the “correct” answers\n",
    "in the supervised learning.The fundamental idea of a supervised learning algorithm is to learn a mathematical relationship\n",
    "between inputs and outputs so that it can predict the output value given an entirely new set of input values.\n",
    "\n",
    "exp : Lineer Regression for sales forecasting, score prediction  -Decision three for predictive analysis,  \n",
    "-support vector machines (SVM) for classification of images, face detection\n",
    "\n",
    "But unsupervised learning metod  the input dataset is unlabeled. There is no output variable we are trying to predict. \n",
    "There is no prior mathematical model we are trying to fit the data to. \n",
    "All we want to do is let the algorithm find some sort of structure or pattern in the data. We let the data speak for itself.\n",
    "\n",
    "Exp : Clustering for city planning, customer segmentation>> k-means,Neural networks, Gaussion Mixture\n",
    "-Dimensionalty reduction for big data visualition, structure discovery\n",
    "\n",
    "\n",
    "\n",
    "\n",
    "\"\"\"\n",
    "\n",
    "#3\n",
    "\"\"\"\n",
    "\n",
    "Validation Set: This is smaller than the training set, and is used to evaluate the performance of models\n",
    "with different hyperparameter values. It's also used to detect overfitting during the training stages.\n",
    "\n",
    "Test Set: This set is used to get an idea of the final performance of a model after hyperparameter tuning.\n",
    "It's also useful to get an idea of how different models (SVMs, Neural Networks, Random forests...) perform against each other.\n",
    "\n",
    " We use them to evaluate the ability of the selected model.\n",
    "\"\"\"\n",
    "#4\n",
    "\"\"\"\n",
    "\n",
    "\n",
    "\n",
    "\n",
    "\"\"\""
   ]
  }
 ],
 "metadata": {
  "kernelspec": {
   "display_name": "Python 3",
   "language": "python",
   "name": "python3"
  },
  "language_info": {
   "codemirror_mode": {
    "name": "ipython",
    "version": 3
   },
   "file_extension": ".py",
   "mimetype": "text/x-python",
   "name": "python",
   "nbconvert_exporter": "python",
   "pygments_lexer": "ipython3",
   "version": "3.8.5"
  }
 },
 "nbformat": 4,
 "nbformat_minor": 4
}
